{
  "cells": [
    {
      "cell_type": "code",
      "execution_count": 93,
      "metadata": {
        "colab": {
          "base_uri": "https://localhost:8080/"
        },
        "id": "j7z3ga9jwgrU",
        "outputId": "155a985b-e4e3-4e03-aa63-6aa9a5236de2"
      },
      "outputs": [
        {
          "output_type": "stream",
          "name": "stdout",
          "text": [
            "Drive already mounted at /content/drive; to attempt to forcibly remount, call drive.mount(\"/content/drive\", force_remount=True).\n",
            "/content/drive/MyDrive/SMU_MITB_NLP/project\n"
          ]
        }
      ],
      "source": [
        "import pandas as pd\n",
        "import numpy as np\n",
        "import matplotlib.pyplot as plt\n",
        "from statsmodels.tsa.arima.model import ARIMA\n",
        "from math import sqrt\n",
        "import math as math\n",
        "\n",
        "from google.colab import drive\n",
        "\n",
        "drive.mount('/content/drive')\n",
        "%cd /content/drive/MyDrive/SMU_MITB_NLP/project/"
      ]
    },
    {
      "cell_type": "markdown",
      "metadata": {
        "id": "p3hrGVxawgrW"
      },
      "source": [
        "# Further pre-processing for inventory management"
      ]
    },
    {
      "cell_type": "code",
      "execution_count": 7,
      "metadata": {
        "colab": {
          "base_uri": "https://localhost:8080/",
          "height": 392
        },
        "id": "qbspFL31wgrX",
        "outputId": "1b7b5276-f8dd-4359-e435-6176d499d4a1"
      },
      "outputs": [
        {
          "output_type": "execute_result",
          "data": {
            "text/plain": [
              "       t_dat                                        customer_id  article_id  \\\n",
              "0 2018-09-20  000058a12d5b43e67d225668fa1f8d618c13dc232df0ca...   663713001   \n",
              "1 2018-09-20  000058a12d5b43e67d225668fa1f8d618c13dc232df0ca...   541518023   \n",
              "2 2018-09-20  00007d2de826758b65a93dd24ce629ed66842531df6699...   505221004   \n",
              "3 2018-09-20  00007d2de826758b65a93dd24ce629ed66842531df6699...   685687003   \n",
              "4 2018-09-20  00007d2de826758b65a93dd24ce629ed66842531df6699...   685687004   \n",
              "\n",
              "   price  sales_channel_id product_type_name  product_group_name  \\\n",
              "0  29.99                 2    Underwear body           Underwear   \n",
              "1  17.99                 2               Bra           Underwear   \n",
              "2   8.99                 2           Sweater  Garment Upper body   \n",
              "3   9.99                 2           Sweater  Garment Upper body   \n",
              "4   9.99                 2           Sweater  Garment Upper body   \n",
              "\n",
              "  graphical_appearance_name colour_group_name perceived_colour_value_name  \\\n",
              "0                     Solid             Black                        Dark   \n",
              "1                     Solid        Light Pink                 Dusty Light   \n",
              "2                   Melange              Pink                Medium Dusty   \n",
              "3                   Melange              Pink                      Medium   \n",
              "4                   Melange        Dark Green                        Dark   \n",
              "\n",
              "  index_group_name                section_name  month  day_of_week  \\\n",
              "0       Ladieswear             Womens Lingerie      9            3   \n",
              "1       Ladieswear             Womens Lingerie      9            3   \n",
              "2          Divided            Divided Selected      9            3   \n",
              "3       Ladieswear  Womens Everyday Collection      9            3   \n",
              "4       Ladieswear  Womens Everyday Collection      9            3   \n",
              "\n",
              "   week_of_year  unique_products  \n",
              "0            38               14  \n",
              "1            38               14  \n",
              "2            38              110  \n",
              "3            38              110  \n",
              "4            38              110  "
            ],
            "text/html": [
              "\n",
              "  <div id=\"df-17f7dc46-0eff-4b9e-97c9-7f9b8660e31c\">\n",
              "    <div class=\"colab-df-container\">\n",
              "      <div>\n",
              "<style scoped>\n",
              "    .dataframe tbody tr th:only-of-type {\n",
              "        vertical-align: middle;\n",
              "    }\n",
              "\n",
              "    .dataframe tbody tr th {\n",
              "        vertical-align: top;\n",
              "    }\n",
              "\n",
              "    .dataframe thead th {\n",
              "        text-align: right;\n",
              "    }\n",
              "</style>\n",
              "<table border=\"1\" class=\"dataframe\">\n",
              "  <thead>\n",
              "    <tr style=\"text-align: right;\">\n",
              "      <th></th>\n",
              "      <th>t_dat</th>\n",
              "      <th>customer_id</th>\n",
              "      <th>article_id</th>\n",
              "      <th>price</th>\n",
              "      <th>sales_channel_id</th>\n",
              "      <th>product_type_name</th>\n",
              "      <th>product_group_name</th>\n",
              "      <th>graphical_appearance_name</th>\n",
              "      <th>colour_group_name</th>\n",
              "      <th>perceived_colour_value_name</th>\n",
              "      <th>index_group_name</th>\n",
              "      <th>section_name</th>\n",
              "      <th>month</th>\n",
              "      <th>day_of_week</th>\n",
              "      <th>week_of_year</th>\n",
              "      <th>unique_products</th>\n",
              "    </tr>\n",
              "  </thead>\n",
              "  <tbody>\n",
              "    <tr>\n",
              "      <th>0</th>\n",
              "      <td>2018-09-20</td>\n",
              "      <td>000058a12d5b43e67d225668fa1f8d618c13dc232df0ca...</td>\n",
              "      <td>663713001</td>\n",
              "      <td>29.99</td>\n",
              "      <td>2</td>\n",
              "      <td>Underwear body</td>\n",
              "      <td>Underwear</td>\n",
              "      <td>Solid</td>\n",
              "      <td>Black</td>\n",
              "      <td>Dark</td>\n",
              "      <td>Ladieswear</td>\n",
              "      <td>Womens Lingerie</td>\n",
              "      <td>9</td>\n",
              "      <td>3</td>\n",
              "      <td>38</td>\n",
              "      <td>14</td>\n",
              "    </tr>\n",
              "    <tr>\n",
              "      <th>1</th>\n",
              "      <td>2018-09-20</td>\n",
              "      <td>000058a12d5b43e67d225668fa1f8d618c13dc232df0ca...</td>\n",
              "      <td>541518023</td>\n",
              "      <td>17.99</td>\n",
              "      <td>2</td>\n",
              "      <td>Bra</td>\n",
              "      <td>Underwear</td>\n",
              "      <td>Solid</td>\n",
              "      <td>Light Pink</td>\n",
              "      <td>Dusty Light</td>\n",
              "      <td>Ladieswear</td>\n",
              "      <td>Womens Lingerie</td>\n",
              "      <td>9</td>\n",
              "      <td>3</td>\n",
              "      <td>38</td>\n",
              "      <td>14</td>\n",
              "    </tr>\n",
              "    <tr>\n",
              "      <th>2</th>\n",
              "      <td>2018-09-20</td>\n",
              "      <td>00007d2de826758b65a93dd24ce629ed66842531df6699...</td>\n",
              "      <td>505221004</td>\n",
              "      <td>8.99</td>\n",
              "      <td>2</td>\n",
              "      <td>Sweater</td>\n",
              "      <td>Garment Upper body</td>\n",
              "      <td>Melange</td>\n",
              "      <td>Pink</td>\n",
              "      <td>Medium Dusty</td>\n",
              "      <td>Divided</td>\n",
              "      <td>Divided Selected</td>\n",
              "      <td>9</td>\n",
              "      <td>3</td>\n",
              "      <td>38</td>\n",
              "      <td>110</td>\n",
              "    </tr>\n",
              "    <tr>\n",
              "      <th>3</th>\n",
              "      <td>2018-09-20</td>\n",
              "      <td>00007d2de826758b65a93dd24ce629ed66842531df6699...</td>\n",
              "      <td>685687003</td>\n",
              "      <td>9.99</td>\n",
              "      <td>2</td>\n",
              "      <td>Sweater</td>\n",
              "      <td>Garment Upper body</td>\n",
              "      <td>Melange</td>\n",
              "      <td>Pink</td>\n",
              "      <td>Medium</td>\n",
              "      <td>Ladieswear</td>\n",
              "      <td>Womens Everyday Collection</td>\n",
              "      <td>9</td>\n",
              "      <td>3</td>\n",
              "      <td>38</td>\n",
              "      <td>110</td>\n",
              "    </tr>\n",
              "    <tr>\n",
              "      <th>4</th>\n",
              "      <td>2018-09-20</td>\n",
              "      <td>00007d2de826758b65a93dd24ce629ed66842531df6699...</td>\n",
              "      <td>685687004</td>\n",
              "      <td>9.99</td>\n",
              "      <td>2</td>\n",
              "      <td>Sweater</td>\n",
              "      <td>Garment Upper body</td>\n",
              "      <td>Melange</td>\n",
              "      <td>Dark Green</td>\n",
              "      <td>Dark</td>\n",
              "      <td>Ladieswear</td>\n",
              "      <td>Womens Everyday Collection</td>\n",
              "      <td>9</td>\n",
              "      <td>3</td>\n",
              "      <td>38</td>\n",
              "      <td>110</td>\n",
              "    </tr>\n",
              "  </tbody>\n",
              "</table>\n",
              "</div>\n",
              "      <button class=\"colab-df-convert\" onclick=\"convertToInteractive('df-17f7dc46-0eff-4b9e-97c9-7f9b8660e31c')\"\n",
              "              title=\"Convert this dataframe to an interactive table.\"\n",
              "              style=\"display:none;\">\n",
              "        \n",
              "  <svg xmlns=\"http://www.w3.org/2000/svg\" height=\"24px\"viewBox=\"0 0 24 24\"\n",
              "       width=\"24px\">\n",
              "    <path d=\"M0 0h24v24H0V0z\" fill=\"none\"/>\n",
              "    <path d=\"M18.56 5.44l.94 2.06.94-2.06 2.06-.94-2.06-.94-.94-2.06-.94 2.06-2.06.94zm-11 1L8.5 8.5l.94-2.06 2.06-.94-2.06-.94L8.5 2.5l-.94 2.06-2.06.94zm10 10l.94 2.06.94-2.06 2.06-.94-2.06-.94-.94-2.06-.94 2.06-2.06.94z\"/><path d=\"M17.41 7.96l-1.37-1.37c-.4-.4-.92-.59-1.43-.59-.52 0-1.04.2-1.43.59L10.3 9.45l-7.72 7.72c-.78.78-.78 2.05 0 2.83L4 21.41c.39.39.9.59 1.41.59.51 0 1.02-.2 1.41-.59l7.78-7.78 2.81-2.81c.8-.78.8-2.07 0-2.86zM5.41 20L4 18.59l7.72-7.72 1.47 1.35L5.41 20z\"/>\n",
              "  </svg>\n",
              "      </button>\n",
              "      \n",
              "  <style>\n",
              "    .colab-df-container {\n",
              "      display:flex;\n",
              "      flex-wrap:wrap;\n",
              "      gap: 12px;\n",
              "    }\n",
              "\n",
              "    .colab-df-convert {\n",
              "      background-color: #E8F0FE;\n",
              "      border: none;\n",
              "      border-radius: 50%;\n",
              "      cursor: pointer;\n",
              "      display: none;\n",
              "      fill: #1967D2;\n",
              "      height: 32px;\n",
              "      padding: 0 0 0 0;\n",
              "      width: 32px;\n",
              "    }\n",
              "\n",
              "    .colab-df-convert:hover {\n",
              "      background-color: #E2EBFA;\n",
              "      box-shadow: 0px 1px 2px rgba(60, 64, 67, 0.3), 0px 1px 3px 1px rgba(60, 64, 67, 0.15);\n",
              "      fill: #174EA6;\n",
              "    }\n",
              "\n",
              "    [theme=dark] .colab-df-convert {\n",
              "      background-color: #3B4455;\n",
              "      fill: #D2E3FC;\n",
              "    }\n",
              "\n",
              "    [theme=dark] .colab-df-convert:hover {\n",
              "      background-color: #434B5C;\n",
              "      box-shadow: 0px 1px 3px 1px rgba(0, 0, 0, 0.15);\n",
              "      filter: drop-shadow(0px 1px 2px rgba(0, 0, 0, 0.3));\n",
              "      fill: #FFFFFF;\n",
              "    }\n",
              "  </style>\n",
              "\n",
              "      <script>\n",
              "        const buttonEl =\n",
              "          document.querySelector('#df-17f7dc46-0eff-4b9e-97c9-7f9b8660e31c button.colab-df-convert');\n",
              "        buttonEl.style.display =\n",
              "          google.colab.kernel.accessAllowed ? 'block' : 'none';\n",
              "\n",
              "        async function convertToInteractive(key) {\n",
              "          const element = document.querySelector('#df-17f7dc46-0eff-4b9e-97c9-7f9b8660e31c');\n",
              "          const dataTable =\n",
              "            await google.colab.kernel.invokeFunction('convertToInteractive',\n",
              "                                                     [key], {});\n",
              "          if (!dataTable) return;\n",
              "\n",
              "          const docLinkHtml = 'Like what you see? Visit the ' +\n",
              "            '<a target=\"_blank\" href=https://colab.research.google.com/notebooks/data_table.ipynb>data table notebook</a>'\n",
              "            + ' to learn more about interactive tables.';\n",
              "          element.innerHTML = '';\n",
              "          dataTable['output_type'] = 'display_data';\n",
              "          await google.colab.output.renderOutput(dataTable, element);\n",
              "          const docLink = document.createElement('div');\n",
              "          docLink.innerHTML = docLinkHtml;\n",
              "          element.appendChild(docLink);\n",
              "        }\n",
              "      </script>\n",
              "    </div>\n",
              "  </div>\n",
              "  "
            ]
          },
          "metadata": {},
          "execution_count": 7
        }
      ],
      "source": [
        "transactions_cleaned = pd.read_pickle(\"transactions_cleaned.pkl\")\n",
        "transactions_cleaned.head()"
      ]
    },
    {
      "cell_type": "markdown",
      "source": [
        "**Function to extract a sales record by datetime for particular item from a particular column**"
      ],
      "metadata": {
        "id": "S9uC9ehf2xMz"
      }
    },
    {
      "cell_type": "code",
      "source": [
        "def sales_extractor (item, group, df, frequency=\"weekly\"):\n",
        "  df = df.copy()\n",
        "  frequency_dict = {'monthly':'M', 'weekly':'W'}\n",
        "  series = df[df[group] == item].groupby(['t_dat'])['customer_id'].count()\n",
        "  output_df = series.resample(frequency_dict[frequency]).sum().to_frame()\n",
        "  output_df.rename(mapper={'customer_id':'sales_count'}, axis=\"columns\", inplace=True)\n",
        "  return output_df"
      ],
      "metadata": {
        "id": "vm2ghdaP2wvK"
      },
      "execution_count": 128,
      "outputs": []
    },
    {
      "cell_type": "markdown",
      "metadata": {
        "id": "fWDmsLaGwgrY"
      },
      "source": [
        "# Jeremy's code"
      ]
    },
    {
      "cell_type": "code",
      "execution_count": null,
      "metadata": {
        "id": "reYC_G4GwgrY"
      },
      "outputs": [],
      "source": []
    },
    {
      "cell_type": "code",
      "execution_count": null,
      "metadata": {
        "id": "vhRE2mlAwgrY"
      },
      "outputs": [],
      "source": []
    },
    {
      "cell_type": "code",
      "execution_count": null,
      "metadata": {
        "id": "0g5EzjOJwgrY"
      },
      "outputs": [],
      "source": []
    },
    {
      "cell_type": "markdown",
      "metadata": {
        "id": "YzlgDSPjwgrY"
      },
      "source": [
        "# Vincent's code"
      ]
    },
    {
      "cell_type": "code",
      "execution_count": 129,
      "metadata": {
        "id": "un00-g7wwgrZ"
      },
      "outputs": [],
      "source": [
        "df = sales_extractor('Sweater', 'product_type_name', transactions_cleaned)\n",
        "df_train = df.iloc[:-6]\n",
        "df_test = df.iloc[-6:]"
      ]
    },
    {
      "cell_type": "markdown",
      "metadata": {
        "id": "pAX4WN6IwgrY"
      },
      "source": [
        "**Using the ARIMA model to predict weekly sales of a particular product**"
      ]
    },
    {
      "cell_type": "code",
      "source": [
        "from sklearn.metrics import mean_squared_error"
      ],
      "metadata": {
        "id": "5-HWXScYAFse"
      },
      "execution_count": 62,
      "outputs": []
    },
    {
      "cell_type": "code",
      "source": [
        "### Conduct Grid Search for ARIMA ###\n",
        "def evaluate_arima_model(order):\n",
        "    model = ARIMA(df_train, order=order)\n",
        "    model_fit = model.fit()\n",
        "    predictions = model_fit.predict(start=len(df_train), end=len(df_train)+len(df_test)-1, dynamic=False)\n",
        "    error = mean_squared_error(df_test, predictions)\n",
        "    return error\n",
        "\n",
        "# evaluate combinations of p, d and q values for an ARIMA model\n",
        "def evaluate_models(p_values, d_values, q_values):\n",
        "    best_score, best_cfg = float(\"inf\"), None\n",
        "    for p in p_values:\n",
        "        for d in d_values:\n",
        "            for q in q_values:\n",
        "                order = (p,d,q)\n",
        "                try:\n",
        "                    mse = evaluate_arima_model(order)\n",
        "                    if mse < best_score:\n",
        "                        best_score, best_cfg = mse, order\n",
        "                    print('ARIMA%s MSE=%.3f' % (order,mse))\n",
        "                except:\n",
        "                    continue\n",
        "    print('Best ARIMA%s MSE=%.3f' % (best_cfg, best_score))"
      ],
      "metadata": {
        "id": "J0cwslsRAHn9"
      },
      "execution_count": 130,
      "outputs": []
    },
    {
      "cell_type": "code",
      "source": [
        "# specify range of parameters you want to test\n",
        "p_values = [0, 1, 2]\n",
        "d_values = range(0, 3)\n",
        "q_values = range(0, 3)\n",
        "\n",
        "# find the best parameters\n",
        "evaluate_models(p_values, d_values, q_values)"
      ],
      "metadata": {
        "id": "fztog2YuAlDA"
      },
      "execution_count": null,
      "outputs": []
    },
    {
      "cell_type": "code",
      "execution_count": 131,
      "metadata": {
        "colab": {
          "base_uri": "https://localhost:8080/"
        },
        "id": "I-mSSCZswgrZ",
        "outputId": "0718c5b8-e9c4-49d8-ac08-58aff8d236db"
      },
      "outputs": [
        {
          "output_type": "stream",
          "name": "stdout",
          "text": [
            "                               SARIMAX Results                                \n",
            "==============================================================================\n",
            "Dep. Variable:            sales_count   No. Observations:                  100\n",
            "Model:                 ARIMA(0, 0, 2)   Log Likelihood               -1109.864\n",
            "Date:                Thu, 08 Jun 2023   AIC                           2227.727\n",
            "Time:                        18:06:14   BIC                           2238.148\n",
            "Sample:                    09-23-2018   HQIC                          2231.945\n",
            "                         - 08-16-2020                                         \n",
            "Covariance Type:                  opg                                         \n",
            "==============================================================================\n",
            "                 coef    std err          z      P>|z|      [0.025      0.975]\n",
            "------------------------------------------------------------------------------\n",
            "const       2.639e+04   4623.626      5.708      0.000    1.73e+04    3.55e+04\n",
            "ma.L1          0.5732      0.124      4.632      0.000       0.331       0.816\n",
            "ma.L2          0.3281      0.105      3.132      0.002       0.123       0.534\n",
            "sigma2      3.457e+08      0.468   7.39e+08      0.000    3.46e+08    3.46e+08\n",
            "===================================================================================\n",
            "Ljung-Box (L1) (Q):                   0.85   Jarque-Bera (JB):               213.42\n",
            "Prob(Q):                              0.36   Prob(JB):                         0.00\n",
            "Heteroskedasticity (H):               0.28   Skew:                             2.08\n",
            "Prob(H) (two-sided):                  0.00   Kurtosis:                         8.82\n",
            "===================================================================================\n",
            "\n",
            "Warnings:\n",
            "[1] Covariance matrix calculated using the outer product of gradients (complex-step).\n",
            "[2] Covariance matrix is singular or near-singular, with condition number 3.85e+23. Standard errors may be unstable.\n"
          ]
        }
      ],
      "source": [
        "ARIMA_model = ARIMA(df_train, order=(0, 0, 2))\n",
        "ARIMA_model_fit = ARIMA_model.fit()\n",
        "print(ARIMA_model_fit.summary())"
      ]
    },
    {
      "cell_type": "code",
      "source": [
        "# Plot residual errors for the best ARIMA model\n",
        "best_residuals = pd.DataFrame(ARIMA_model_fit.resid)\n",
        "best_residuals.plot()\n",
        "plt.show()"
      ],
      "metadata": {
        "colab": {
          "base_uri": "https://localhost:8080/",
          "height": 466
        },
        "id": "lZmJ9Jk7Bv_p",
        "outputId": "2d29538d-2693-4888-a26a-90c45f73965c"
      },
      "execution_count": 132,
      "outputs": [
        {
          "output_type": "display_data",
          "data": {
            "text/plain": [
              "<Figure size 640x480 with 1 Axes>"
            ],
            "image/png": "[encoded data removed]"
          },
          "metadata": {}
        }
      ]
    },
    {
      "cell_type": "code",
      "source": [
        "ARIMA_forecast = ARIMA_model_fit.forecast(steps=6)"
      ],
      "metadata": {
        "id": "qs_FdfJg_SGD"
      },
      "execution_count": 134,
      "outputs": []
    },
    {
      "cell_type": "code",
      "source": [
        "ARIMA_projections = pd.merge(df_test, ARIMA_forecast, left_index=True, right_index=True)\n",
        "ARIMA_projections.rename(mapper={'predicted_mean':'predicted_sales_count'}, axis=\"columns\", inplace=True)\n",
        "pd.concat([df_train, ARIMA_projections], axis=0).plot() #Just plot the concatnated df, showing historical and forecasted"
      ],
      "metadata": {
        "colab": {
          "base_uri": "https://localhost:8080/",
          "height": 484
        },
        "id": "PkX-71dUCeMa",
        "outputId": "b65d304b-e770-4d32-ed2d-3c277ec6e7f9"
      },
      "execution_count": 180,
      "outputs": [
        {
          "output_type": "execute_result",
          "data": {
            "text/plain": [
              "<Axes: xlabel='t_dat'>"
            ]
          },
          "metadata": {},
          "execution_count": 180
        },
        {
          "output_type": "display_data",
          "data": {
            "text/plain": [
              "<Figure size 640x480 with 1 Axes>"
            ],
            "image/png": "[encoded data removed]"
          },
          "metadata": {}
        }
      ]
    },
    {
      "cell_type": "code",
      "source": [
        "### We use RMSE as an objective measure of the accuracy of the forecast ###\n",
        "ARIMA_mse = mean_squared_error(df_test, ARIMA_forecast)\n",
        "ARIMA_rmse = sqrt(ARIMA_mse)\n",
        "print(f\"The RMSE for the ARIMA model for the projection of 4 weeks is {ARIMA_rmse}\")"
      ],
      "metadata": {
        "colab": {
          "base_uri": "https://localhost:8080/"
        },
        "id": "c4G4893v_6CV",
        "outputId": "46c6fa61-6baf-4257-f9a8-3ea6a1258767"
      },
      "execution_count": 181,
      "outputs": [
        {
          "output_type": "stream",
          "name": "stdout",
          "text": [
            "The RMSE for the ARIMA model for the projection of 4 weeks is 8974.770017593499\n"
          ]
        }
      ]
    },
    {
      "cell_type": "markdown",
      "source": [
        "**Next, lets try using the LSTM model to predict sales**"
      ],
      "metadata": {
        "id": "68gNfbQLFPvc"
      }
    },
    {
      "cell_type": "code",
      "source": [
        "from keras.models import Sequential\n",
        "from keras.layers import LSTM, Dense\n",
        "from sklearn.preprocessing import MinMaxScaler"
      ],
      "metadata": {
        "id": "npaB00ZxFWAV"
      },
      "execution_count": 137,
      "outputs": []
    },
    {
      "cell_type": "code",
      "source": [
        "# Since LSTMs are sensitive to the scale of input data, we rescale everything between 0 and 1\n",
        "scaler = MinMaxScaler(feature_range=(0, 1))\n",
        "df_train_scaled = scaler.fit_transform(df_train)\n",
        "\n",
        "# Transform data to be suitable for LSTM input\n",
        "def create_dataset(dataset, look_back=1):\n",
        "    dataX, dataY = [], []\n",
        "    for i in range(len(dataset)-look_back-1):\n",
        "        a = dataset[i:(i+look_back), 0]\n",
        "        dataX.append(a)\n",
        "        dataY.append(dataset[i + look_back, 0])\n",
        "    return np.array(dataX), np.array(dataY)\n",
        "\n",
        "# Reshape into X=t and Y=t+1\n",
        "look_back = 4\n",
        "trainX, trainY = create_dataset(df_train_scaled, look_back)\n",
        "\n",
        "# Reshape input to be [samples, time steps, features]\n",
        "trainX = np.reshape(trainX, (trainX.shape[0], 1, trainX.shape[1]))"
      ],
      "metadata": {
        "id": "WzTNab7rF_cW"
      },
      "execution_count": 174,
      "outputs": []
    },
    {
      "cell_type": "code",
      "source": [
        "# Build and train the LSTM model\n",
        "LSTM_model = Sequential()\n",
        "LSTM_model.add(LSTM(4, input_shape=(1, look_back)))\n",
        "LSTM_model.add(Dense(1))\n",
        "LSTM_model.compile(loss='mean_squared_error', optimizer='adam')\n",
        "LSTM_model.fit(trainX, trainY, epochs=50, batch_size=1, verbose=2)"
      ],
      "metadata": {
        "id": "dihFq5NoGYZV"
      },
      "execution_count": null,
      "outputs": []
    },
    {
      "cell_type": "code",
      "source": [
        "n_future = 7 #Forecast the next 5 data points\n",
        "forecast_period_dates = pd.date_range(list(df_train.index)[-1], periods=n_future, freq='W').tolist()\n",
        "\n",
        "forecast = LSTM_model.predict(trainX[-n_future:]) # forecast \n",
        "\n",
        "# Perform inverse transformation to rescale back to original range\n",
        "forecast_copies = np.repeat(forecast, df_train.shape[1], axis=-1)\n",
        "y_pred_future = scaler.inverse_transform(forecast_copies)[:,0]\n",
        "\n",
        "# Convert timestamp to date\n",
        "forecast_dates = []\n",
        "for time_i in forecast_period_dates:\n",
        "    forecast_dates.append(time_i.date())\n",
        "    \n",
        "df_forecast = pd.DataFrame({'Date':np.array(forecast_dates), 'sales_count':y_pred_future})\n",
        "df_forecast['Date']=pd.to_datetime(df_forecast['Date'])"
      ],
      "metadata": {
        "colab": {
          "base_uri": "https://localhost:8080/"
        },
        "id": "3iFgoh-3JXWh",
        "outputId": "64a2731f-7816-4890-9e0e-1c957551ad21"
      },
      "execution_count": 176,
      "outputs": [
        {
          "output_type": "stream",
          "name": "stderr",
          "text": [
            "WARNING:tensorflow:5 out of the last 17 calls to <function Model.make_predict_function.<locals>.predict_function at 0x7fc55c2c23b0> triggered tf.function retracing. Tracing is expensive and the excessive number of tracings could be due to (1) creating @tf.function repeatedly in a loop, (2) passing tensors with different shapes, (3) passing Python objects instead of tensors. For (1), please define your @tf.function outside of the loop. For (2), @tf.function has reduce_retracing=True option that can avoid unnecessary retracing. For (3), please refer to https://www.tensorflow.org/guide/function#controlling_retracing and https://www.tensorflow.org/api_docs/python/tf/function for  more details.\n"
          ]
        },
        {
          "output_type": "stream",
          "name": "stdout",
          "text": [
            "1/1 [==============================] - 0s 485ms/step\n"
          ]
        }
      ]
    },
    {
      "cell_type": "code",
      "source": [
        "df_forecast[1:]"
      ],
      "metadata": {
        "colab": {
          "base_uri": "https://localhost:8080/",
          "height": 237
        },
        "id": "JeKdoB2VJ5X-",
        "outputId": "96595625-d64e-442d-e759-1140fa3e008d"
      },
      "execution_count": 177,
      "outputs": [
        {
          "output_type": "execute_result",
          "data": {
            "text/plain": [
              "        Date  sales_count\n",
              "1 2020-08-23  6342.298828\n",
              "2 2020-08-30  6037.364258\n",
              "3 2020-09-06  5987.191895\n",
              "4 2020-09-13  5803.742676\n",
              "5 2020-09-20  6224.002441\n",
              "6 2020-09-27  6784.600586"
            ],
            "text/html": [
              "\n",
              "  <div id=\"df-f8064a37-876a-48b6-9b54-3c3744d481e5\">\n",
              "    <div class=\"colab-df-container\">\n",
              "      <div>\n",
              "<style scoped>\n",
              "    .dataframe tbody tr th:only-of-type {\n",
              "        vertical-align: middle;\n",
              "    }\n",
              "\n",
              "    .dataframe tbody tr th {\n",
              "        vertical-align: top;\n",
              "    }\n",
              "\n",
              "    .dataframe thead th {\n",
              "        text-align: right;\n",
              "    }\n",
              "</style>\n",
              "<table border=\"1\" class=\"dataframe\">\n",
              "  <thead>\n",
              "    <tr style=\"text-align: right;\">\n",
              "      <th></th>\n",
              "      <th>Date</th>\n",
              "      <th>sales_count</th>\n",
              "    </tr>\n",
              "  </thead>\n",
              "  <tbody>\n",
              "    <tr>\n",
              "      <th>1</th>\n",
              "      <td>2020-08-23</td>\n",
              "      <td>6342.298828</td>\n",
              "    </tr>\n",
              "    <tr>\n",
              "      <th>2</th>\n",
              "      <td>2020-08-30</td>\n",
              "      <td>6037.364258</td>\n",
              "    </tr>\n",
              "    <tr>\n",
              "      <th>3</th>\n",
              "      <td>2020-09-06</td>\n",
              "      <td>5987.191895</td>\n",
              "    </tr>\n",
              "    <tr>\n",
              "      <th>4</th>\n",
              "      <td>2020-09-13</td>\n",
              "      <td>5803.742676</td>\n",
              "    </tr>\n",
              "    <tr>\n",
              "      <th>5</th>\n",
              "      <td>2020-09-20</td>\n",
              "      <td>6224.002441</td>\n",
              "    </tr>\n",
              "    <tr>\n",
              "      <th>6</th>\n",
              "      <td>2020-09-27</td>\n",
              "      <td>6784.600586</td>\n",
              "    </tr>\n",
              "  </tbody>\n",
              "</table>\n",
              "</div>\n",
              "      <button class=\"colab-df-convert\" onclick=\"convertToInteractive('df-f8064a37-876a-48b6-9b54-3c3744d481e5')\"\n",
              "              title=\"Convert this dataframe to an interactive table.\"\n",
              "              style=\"display:none;\">\n",
              "        \n",
              "  <svg xmlns=\"http://www.w3.org/2000/svg\" height=\"24px\"viewBox=\"0 0 24 24\"\n",
              "       width=\"24px\">\n",
              "    <path d=\"M0 0h24v24H0V0z\" fill=\"none\"/>\n",
              "    <path d=\"M18.56 5.44l.94 2.06.94-2.06 2.06-.94-2.06-.94-.94-2.06-.94 2.06-2.06.94zm-11 1L8.5 8.5l.94-2.06 2.06-.94-2.06-.94L8.5 2.5l-.94 2.06-2.06.94zm10 10l.94 2.06.94-2.06 2.06-.94-2.06-.94-.94-2.06-.94 2.06-2.06.94z\"/><path d=\"M17.41 7.96l-1.37-1.37c-.4-.4-.92-.59-1.43-.59-.52 0-1.04.2-1.43.59L10.3 9.45l-7.72 7.72c-.78.78-.78 2.05 0 2.83L4 21.41c.39.39.9.59 1.41.59.51 0 1.02-.2 1.41-.59l7.78-7.78 2.81-2.81c.8-.78.8-2.07 0-2.86zM5.41 20L4 18.59l7.72-7.72 1.47 1.35L5.41 20z\"/>\n",
              "  </svg>\n",
              "      </button>\n",
              "      \n",
              "  <style>\n",
              "    .colab-df-container {\n",
              "      display:flex;\n",
              "      flex-wrap:wrap;\n",
              "      gap: 12px;\n",
              "    }\n",
              "\n",
              "    .colab-df-convert {\n",
              "      background-color: #E8F0FE;\n",
              "      border: none;\n",
              "      border-radius: 50%;\n",
              "      cursor: pointer;\n",
              "      display: none;\n",
              "      fill: #1967D2;\n",
              "      height: 32px;\n",
              "      padding: 0 0 0 0;\n",
              "      width: 32px;\n",
              "    }\n",
              "\n",
              "    .colab-df-convert:hover {\n",
              "      background-color: #E2EBFA;\n",
              "      box-shadow: 0px 1px 2px rgba(60, 64, 67, 0.3), 0px 1px 3px 1px rgba(60, 64, 67, 0.15);\n",
              "      fill: #174EA6;\n",
              "    }\n",
              "\n",
              "    [theme=dark] .colab-df-convert {\n",
              "      background-color: #3B4455;\n",
              "      fill: #D2E3FC;\n",
              "    }\n",
              "\n",
              "    [theme=dark] .colab-df-convert:hover {\n",
              "      background-color: #434B5C;\n",
              "      box-shadow: 0px 1px 3px 1px rgba(0, 0, 0, 0.15);\n",
              "      filter: drop-shadow(0px 1px 2px rgba(0, 0, 0, 0.3));\n",
              "      fill: #FFFFFF;\n",
              "    }\n",
              "  </style>\n",
              "\n",
              "      <script>\n",
              "        const buttonEl =\n",
              "          document.querySelector('#df-f8064a37-876a-48b6-9b54-3c3744d481e5 button.colab-df-convert');\n",
              "        buttonEl.style.display =\n",
              "          google.colab.kernel.accessAllowed ? 'block' : 'none';\n",
              "\n",
              "        async function convertToInteractive(key) {\n",
              "          const element = document.querySelector('#df-f8064a37-876a-48b6-9b54-3c3744d481e5');\n",
              "          const dataTable =\n",
              "            await google.colab.kernel.invokeFunction('convertToInteractive',\n",
              "                                                     [key], {});\n",
              "          if (!dataTable) return;\n",
              "\n",
              "          const docLinkHtml = 'Like what you see? Visit the ' +\n",
              "            '<a target=\"_blank\" href=https://colab.research.google.com/notebooks/data_table.ipynb>data table notebook</a>'\n",
              "            + ' to learn more about interactive tables.';\n",
              "          element.innerHTML = '';\n",
              "          dataTable['output_type'] = 'display_data';\n",
              "          await google.colab.output.renderOutput(dataTable, element);\n",
              "          const docLink = document.createElement('div');\n",
              "          docLink.innerHTML = docLinkHtml;\n",
              "          element.appendChild(docLink);\n",
              "        }\n",
              "      </script>\n",
              "    </div>\n",
              "  </div>\n",
              "  "
            ]
          },
          "metadata": {},
          "execution_count": 177
        }
      ]
    },
    {
      "cell_type": "code",
      "source": [
        "df_test"
      ],
      "metadata": {
        "colab": {
          "base_uri": "https://localhost:8080/",
          "height": 269
        },
        "id": "GJEHoa-bJ-7R",
        "outputId": "55653531-765c-4e72-88b4-eaf43caa3337"
      },
      "execution_count": 178,
      "outputs": [
        {
          "output_type": "execute_result",
          "data": {
            "text/plain": [
              "            sales_count\n",
              "t_dat                  \n",
              "2020-08-23        12056\n",
              "2020-08-30        28415\n",
              "2020-09-06        30709\n",
              "2020-09-13        35372\n",
              "2020-09-20        29054\n",
              "2020-09-27         8298"
            ],
            "text/html": [
              "\n",
              "  <div id=\"df-b82ae652-f3db-441c-b6d8-fa43a55f0850\">\n",
              "    <div class=\"colab-df-container\">\n",
              "      <div>\n",
              "<style scoped>\n",
              "    .dataframe tbody tr th:only-of-type {\n",
              "        vertical-align: middle;\n",
              "    }\n",
              "\n",
              "    .dataframe tbody tr th {\n",
              "        vertical-align: top;\n",
              "    }\n",
              "\n",
              "    .dataframe thead th {\n",
              "        text-align: right;\n",
              "    }\n",
              "</style>\n",
              "<table border=\"1\" class=\"dataframe\">\n",
              "  <thead>\n",
              "    <tr style=\"text-align: right;\">\n",
              "      <th></th>\n",
              "      <th>sales_count</th>\n",
              "    </tr>\n",
              "    <tr>\n",
              "      <th>t_dat</th>\n",
              "      <th></th>\n",
              "    </tr>\n",
              "  </thead>\n",
              "  <tbody>\n",
              "    <tr>\n",
              "      <th>2020-08-23</th>\n",
              "      <td>12056</td>\n",
              "    </tr>\n",
              "    <tr>\n",
              "      <th>2020-08-30</th>\n",
              "      <td>28415</td>\n",
              "    </tr>\n",
              "    <tr>\n",
              "      <th>2020-09-06</th>\n",
              "      <td>30709</td>\n",
              "    </tr>\n",
              "    <tr>\n",
              "      <th>2020-09-13</th>\n",
              "      <td>35372</td>\n",
              "    </tr>\n",
              "    <tr>\n",
              "      <th>2020-09-20</th>\n",
              "      <td>29054</td>\n",
              "    </tr>\n",
              "    <tr>\n",
              "      <th>2020-09-27</th>\n",
              "      <td>8298</td>\n",
              "    </tr>\n",
              "  </tbody>\n",
              "</table>\n",
              "</div>\n",
              "      <button class=\"colab-df-convert\" onclick=\"convertToInteractive('df-b82ae652-f3db-441c-b6d8-fa43a55f0850')\"\n",
              "              title=\"Convert this dataframe to an interactive table.\"\n",
              "              style=\"display:none;\">\n",
              "        \n",
              "  <svg xmlns=\"http://www.w3.org/2000/svg\" height=\"24px\"viewBox=\"0 0 24 24\"\n",
              "       width=\"24px\">\n",
              "    <path d=\"M0 0h24v24H0V0z\" fill=\"none\"/>\n",
              "    <path d=\"M18.56 5.44l.94 2.06.94-2.06 2.06-.94-2.06-.94-.94-2.06-.94 2.06-2.06.94zm-11 1L8.5 8.5l.94-2.06 2.06-.94-2.06-.94L8.5 2.5l-.94 2.06-2.06.94zm10 10l.94 2.06.94-2.06 2.06-.94-2.06-.94-.94-2.06-.94 2.06-2.06.94z\"/><path d=\"M17.41 7.96l-1.37-1.37c-.4-.4-.92-.59-1.43-.59-.52 0-1.04.2-1.43.59L10.3 9.45l-7.72 7.72c-.78.78-.78 2.05 0 2.83L4 21.41c.39.39.9.59 1.41.59.51 0 1.02-.2 1.41-.59l7.78-7.78 2.81-2.81c.8-.78.8-2.07 0-2.86zM5.41 20L4 18.59l7.72-7.72 1.47 1.35L5.41 20z\"/>\n",
              "  </svg>\n",
              "      </button>\n",
              "      \n",
              "  <style>\n",
              "    .colab-df-container {\n",
              "      display:flex;\n",
              "      flex-wrap:wrap;\n",
              "      gap: 12px;\n",
              "    }\n",
              "\n",
              "    .colab-df-convert {\n",
              "      background-color: #E8F0FE;\n",
              "      border: none;\n",
              "      border-radius: 50%;\n",
              "      cursor: pointer;\n",
              "      display: none;\n",
              "      fill: #1967D2;\n",
              "      height: 32px;\n",
              "      padding: 0 0 0 0;\n",
              "      width: 32px;\n",
              "    }\n",
              "\n",
              "    .colab-df-convert:hover {\n",
              "      background-color: #E2EBFA;\n",
              "      box-shadow: 0px 1px 2px rgba(60, 64, 67, 0.3), 0px 1px 3px 1px rgba(60, 64, 67, 0.15);\n",
              "      fill: #174EA6;\n",
              "    }\n",
              "\n",
              "    [theme=dark] .colab-df-convert {\n",
              "      background-color: #3B4455;\n",
              "      fill: #D2E3FC;\n",
              "    }\n",
              "\n",
              "    [theme=dark] .colab-df-convert:hover {\n",
              "      background-color: #434B5C;\n",
              "      box-shadow: 0px 1px 3px 1px rgba(0, 0, 0, 0.15);\n",
              "      filter: drop-shadow(0px 1px 2px rgba(0, 0, 0, 0.3));\n",
              "      fill: #FFFFFF;\n",
              "    }\n",
              "  </style>\n",
              "\n",
              "      <script>\n",
              "        const buttonEl =\n",
              "          document.querySelector('#df-b82ae652-f3db-441c-b6d8-fa43a55f0850 button.colab-df-convert');\n",
              "        buttonEl.style.display =\n",
              "          google.colab.kernel.accessAllowed ? 'block' : 'none';\n",
              "\n",
              "        async function convertToInteractive(key) {\n",
              "          const element = document.querySelector('#df-b82ae652-f3db-441c-b6d8-fa43a55f0850');\n",
              "          const dataTable =\n",
              "            await google.colab.kernel.invokeFunction('convertToInteractive',\n",
              "                                                     [key], {});\n",
              "          if (!dataTable) return;\n",
              "\n",
              "          const docLinkHtml = 'Like what you see? Visit the ' +\n",
              "            '<a target=\"_blank\" href=https://colab.research.google.com/notebooks/data_table.ipynb>data table notebook</a>'\n",
              "            + ' to learn more about interactive tables.';\n",
              "          element.innerHTML = '';\n",
              "          dataTable['output_type'] = 'display_data';\n",
              "          await google.colab.output.renderOutput(dataTable, element);\n",
              "          const docLink = document.createElement('div');\n",
              "          docLink.innerHTML = docLinkHtml;\n",
              "          element.appendChild(docLink);\n",
              "        }\n",
              "      </script>\n",
              "    </div>\n",
              "  </div>\n",
              "  "
            ]
          },
          "metadata": {},
          "execution_count": 178
        }
      ]
    },
    {
      "cell_type": "code",
      "source": [
        "### We use RMSE as an objective measure of the accuracy of the forecast ###\n",
        "LSTM_mse = mean_squared_error(df_test['sales_count'], df_forecast[1:]['sales_count'])\n",
        "LSTM_rmse = sqrt(LSTM_mse)\n",
        "print(f\"The RMSE for the LSTM model for the projection of 4 weeks is {LSTM_rmse}\")"
      ],
      "metadata": {
        "colab": {
          "base_uri": "https://localhost:8080/"
        },
        "id": "kLvoHbE9G8RJ",
        "outputId": "3ef8ff81-6d05-4053-bafa-4441506af8bc"
      },
      "execution_count": 179,
      "outputs": [
        {
          "output_type": "stream",
          "name": "stdout",
          "text": [
            "The RMSE for the LSTM model for the projection of 4 weeks is 20584.596854599116\n"
          ]
        }
      ]
    },
    {
      "cell_type": "markdown",
      "source": [
        "**Finally, we try tabular transformer**"
      ],
      "metadata": {
        "id": "83enxRR5PgME"
      }
    },
    {
      "cell_type": "code",
      "source": [],
      "metadata": {
        "id": "knG0WP3XPfWz"
      },
      "execution_count": null,
      "outputs": []
    }
  ],
  "metadata": {
    "kernelspec": {
      "display_name": "Python 3",
      "name": "python3"
    },
    "language_info": {
      "codemirror_mode": {
        "name": "ipython",
        "version": 3
      },
      "file_extension": ".py",
      "mimetype": "text/x-python",
      "name": "python",
      "nbconvert_exporter": "python",
      "pygments_lexer": "ipython3",
      "version": "3.10.5"
    },
    "orig_nbformat": 4,
    "colab": {
      "provenance": [],
      "gpuType": "T4"
    },
    "accelerator": "GPU"
  },
  "nbformat": 4,
  "nbformat_minor": 0
}