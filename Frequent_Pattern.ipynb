{
  "nbformat": 4,
  "nbformat_minor": 0,
  "metadata": {
    "colab": {
      "provenance": [],
      "gpuType": "V100"
    },
    "kernelspec": {
      "name": "python3",
      "display_name": "Python 3"
    },
    "language_info": {
      "name": "python"
    },
    "accelerator": "GPU"
  },
  "cells": [
    {
      "cell_type": "code",
      "execution_count": 1,
      "metadata": {
        "colab": {
          "base_uri": "https://localhost:8080/"
        },
        "id": "dXX0iuA2w9sr",
        "outputId": "bcaececd-a305-488e-ff81-ba81f00125cb"
      },
      "outputs": [
        {
          "output_type": "stream",
          "name": "stdout",
          "text": [
            "Drive already mounted at /content/drive; to attempt to forcibly remount, call drive.mount(\"/content/drive\", force_remount=True).\n",
            "/content/drive/MyDrive/SMU_MITB_NLP/project\n"
          ]
        }
      ],
      "source": [
        "import pandas as pd\n",
        "\n",
        "from google.colab import drive\n",
        "drive.mount('/content/drive')\n",
        "%cd /content/drive/MyDrive/SMU_MITB_NLP/project/"
      ]
    },
    {
      "cell_type": "code",
      "source": [
        "transactions_cleaned = pd.read_pickle(\"transactions_cleaned.pkl\")\n",
        "transactions_cleaned.head()\n",
        "\n",
        "### Cleaning up \"Unknown\" product_type_name ###\n",
        "transactions_cleaned = transactions_cleaned[transactions_cleaned['product_type_name'] != 'Unknown']"
      ],
      "metadata": {
        "id": "KWQeY6qYxLb0"
      },
      "execution_count": 2,
      "outputs": []
    },
    {
      "cell_type": "code",
      "source": [
        "### Extract only transactions in 2020 July, Aug, Sep due to computing resources limitation ###\n",
        "transactions_cleaned_limited = transactions_cleaned[(transactions_cleaned['t_dat'].dt.year == 2020) & (transactions_cleaned['t_dat'].dt.month.isin([7,8,9]))]\n",
        "\n",
        "### Preparing the data into a list of lists such that it is a list of customer's articles ###\n",
        "transactions_list = transactions_cleaned_limited.groupby('customer_id')['product_type_name'].apply(list).values.tolist()"
      ],
      "metadata": {
        "id": "_VE8fKVSr93v"
      },
      "execution_count": 4,
      "outputs": []
    },
    {
      "cell_type": "code",
      "source": [
        "### Removing repeated product_name_types ###\n",
        "unique_transactions = [list(set(trans)) for trans in transactions_list]"
      ],
      "metadata": {
        "id": "vX0Quw85yUge"
      },
      "execution_count": 6,
      "outputs": []
    },
    {
      "cell_type": "markdown",
      "source": [
        "# Frequent Pattern Mining"
      ],
      "metadata": {
        "id": "hAtBq4PHxhld"
      }
    },
    {
      "cell_type": "code",
      "source": [
        "from mlxtend.preprocessing import TransactionEncoder\n",
        "from mlxtend.frequent_patterns import apriori, association_rules"
      ],
      "metadata": {
        "id": "os291HFYxfrQ"
      },
      "execution_count": 8,
      "outputs": []
    },
    {
      "cell_type": "code",
      "source": [
        "# TransactionEncoder for one-hot encoding\n",
        "te = TransactionEncoder()\n",
        "te_ary = te.fit(unique_transactions).transform(unique_transactions)\n",
        "\n",
        "# Convert encoded transactions to a DataFrame\n",
        "df = pd.DataFrame(te_ary, columns=te.columns_)"
      ],
      "metadata": {
        "id": "TwpctO0izcW3"
      },
      "execution_count": null,
      "outputs": []
    },
    {
      "cell_type": "code",
      "source": [
        "# Frequent itemsets\n",
        "frequent_itemsets = apriori(df, min_support=0.05, use_colnames=True)\n",
        "\n",
        "# Association rules\n",
        "rules = association_rules(frequent_itemsets, metric=\"confidence\", min_threshold=0.25)"
      ],
      "metadata": {
        "id": "jt6bZJ1D1-6c"
      },
      "execution_count": 18,
      "outputs": []
    },
    {
      "cell_type": "code",
      "source": [
        "frequent_itemsets = frequent_itemsets.sort_values(by='support', ascending=False)\n",
        "frequent_itemsets = frequent_itemsets[frequent_itemsets['itemsets'].apply(lambda x: len(x) > 1)]\n",
        "\n",
        "# Print frequent itemsets\n",
        "print(\"Frequent Itemsets:\")\n",
        "print(frequent_itemsets)"
      ],
      "metadata": {
        "colab": {
          "base_uri": "https://localhost:8080/"
        },
        "id": "t2kM_pKyq8ce",
        "outputId": "fb0ed7c4-95b0-448c-fbf4-13b37fa87546"
      },
      "execution_count": 22,
      "outputs": [
        {
          "output_type": "stream",
          "name": "stdout",
          "text": [
            "Frequent Itemsets:\n",
            "     support                       itemsets\n",
            "34  0.122378              (Trousers, Dress)\n",
            "44  0.115995            (T-shirt, Trousers)\n",
            "42  0.105433            (Trousers, Sweater)\n",
            "46  0.103287                (Trousers, Top)\n",
            "20  0.091822  (Bikini top, Swimwear bottom)\n",
            "32  0.089486               (T-shirt, Dress)\n",
            "33  0.089324                   (Dress, Top)\n",
            "43  0.083086                 (T-shirt, Top)\n",
            "24  0.081956             (Trousers, Blouse)\n",
            "21  0.080015                (Dress, Blouse)\n",
            "48  0.074883           (Trousers, Vest top)\n",
            "40  0.074494             (T-shirt, Sweater)\n",
            "31  0.072944               (Dress, Sweater)\n",
            "41  0.072266                 (Sweater, Top)\n",
            "45  0.069543            (T-shirt, Vest top)\n",
            "35  0.067664              (Dress, Vest top)\n",
            "47  0.063950                (Vest top, Top)\n",
            "23  0.063227                  (Top, Blouse)\n",
            "36  0.061980              (Trousers, Shirt)\n",
            "27  0.061385                (Trousers, Bra)\n",
            "28  0.060787        (Underwear bottom, Bra)\n",
            "30  0.060582                 (Dress, Skirt)\n",
            "38  0.058955             (Trousers, Shorts)\n",
            "37  0.055331              (T-shirt, Shorts)\n",
            "22  0.054784              (T-shirt, Blouse)\n",
            "29  0.054207                (Dress, Shorts)\n",
            "39  0.053187              (Trousers, Skirt)\n",
            "25  0.051842                   (Dress, Bra)\n",
            "49  0.050798     (T-shirt, Trousers, Dress)\n",
            "26  0.050653                 (T-shirt, Bra)\n",
            "50  0.050487         (Trousers, Dress, Top)\n"
          ]
        }
      ]
    },
    {
      "cell_type": "code",
      "source": [
        "# frequent_itemsets.to_pickle('frequent_itemsets.pkl')\n",
        "# frequent_itemsets.to_excel('frequent_itemsets.xlsx')"
      ],
      "metadata": {
        "id": "y8f_Px5l9MBV"
      },
      "execution_count": 27,
      "outputs": []
    },
    {
      "cell_type": "code",
      "source": [
        "rules = rules.sort_values(by='support', ascending=False)\n",
        "\n",
        "# Print association rules\n",
        "print(\"Association Rules:\")\n",
        "print(rules)"
      ],
      "metadata": {
        "colab": {
          "base_uri": "https://localhost:8080/"
        },
        "id": "2MvjB5FB2Ueg",
        "outputId": "2b8c45fa-37fe-453e-aab3-b8cab3a7e2a6"
      },
      "execution_count": 23,
      "outputs": [
        {
          "output_type": "stream",
          "name": "stdout",
          "text": [
            "Association Rules:\n",
            "            antecedents         consequents  antecedent support  \\\n",
            "21              (Dress)          (Trousers)            0.297836   \n",
            "20           (Trousers)             (Dress)            0.355470   \n",
            "36           (Trousers)           (T-shirt)            0.355470   \n",
            "35            (T-shirt)          (Trousers)            0.253765   \n",
            "32            (Sweater)          (Trousers)            0.205147   \n",
            "31           (Trousers)           (Sweater)            0.355470   \n",
            "40                (Top)          (Trousers)            0.220443   \n",
            "39           (Trousers)               (Top)            0.355470   \n",
            "1     (Swimwear bottom)        (Bikini top)            0.114977   \n",
            "0          (Bikini top)   (Swimwear bottom)            0.117891   \n",
            "16            (T-shirt)             (Dress)            0.253765   \n",
            "17              (Dress)           (T-shirt)            0.297836   \n",
            "18              (Dress)               (Top)            0.297836   \n",
            "19                (Top)             (Dress)            0.220443   \n",
            "33            (T-shirt)               (Top)            0.253765   \n",
            "34                (Top)           (T-shirt)            0.220443   \n",
            "7              (Blouse)          (Trousers)            0.164000   \n",
            "3              (Blouse)             (Dress)            0.164000   \n",
            "2               (Dress)            (Blouse)            0.297836   \n",
            "43           (Vest top)          (Trousers)            0.175709   \n",
            "27            (T-shirt)           (Sweater)            0.253765   \n",
            "28            (Sweater)           (T-shirt)            0.205147   \n",
            "15            (Sweater)             (Dress)            0.205147   \n",
            "29            (Sweater)               (Top)            0.205147   \n",
            "30                (Top)           (Sweater)            0.220443   \n",
            "37            (T-shirt)          (Vest top)            0.253765   \n",
            "38           (Vest top)           (T-shirt)            0.175709   \n",
            "22           (Vest top)             (Dress)            0.175709   \n",
            "41           (Vest top)               (Top)            0.175709   \n",
            "42                (Top)          (Vest top)            0.220443   \n",
            "6              (Blouse)               (Top)            0.164000   \n",
            "5                 (Top)            (Blouse)            0.220443   \n",
            "23              (Shirt)          (Trousers)            0.118853   \n",
            "10                (Bra)          (Trousers)            0.165835   \n",
            "11   (Underwear bottom)               (Bra)            0.133899   \n",
            "12                (Bra)  (Underwear bottom)            0.165835   \n",
            "14              (Skirt)             (Dress)            0.116097   \n",
            "25             (Shorts)          (Trousers)            0.134988   \n",
            "24             (Shorts)           (T-shirt)            0.134988   \n",
            "4              (Blouse)           (T-shirt)            0.164000   \n",
            "13             (Shorts)             (Dress)            0.134988   \n",
            "26              (Skirt)          (Trousers)            0.116097   \n",
            "8                 (Bra)             (Dress)            0.165835   \n",
            "44  (T-shirt, Trousers)             (Dress)            0.115995   \n",
            "45     (T-shirt, Dress)          (Trousers)            0.089486   \n",
            "46    (Trousers, Dress)           (T-shirt)            0.122378   \n",
            "9                 (Bra)           (T-shirt)            0.165835   \n",
            "47    (Trousers, Dress)               (Top)            0.122378   \n",
            "48      (Trousers, Top)             (Dress)            0.103287   \n",
            "49         (Dress, Top)          (Trousers)            0.089324   \n",
            "\n",
            "    consequent support   support  confidence      lift  leverage  conviction  \n",
            "21            0.355470  0.122378    0.410893  1.155915  0.016507    1.094079  \n",
            "20            0.297836  0.122378    0.344272  1.155915  0.016507    1.070817  \n",
            "36            0.253765  0.115995    0.326314  1.285892  0.025789    1.107690  \n",
            "35            0.355470  0.115995    0.457096  1.285892  0.025789    1.187189  \n",
            "32            0.355470  0.105433    0.513937  1.445796  0.032509    1.326022  \n",
            "31            0.205147  0.105433    0.296601  1.445796  0.032509    1.130017  \n",
            "40            0.355470  0.103287    0.468544  1.318098  0.024926    1.212763  \n",
            "39            0.220443  0.103287    0.290565  1.318098  0.024926    1.098843  \n",
            "1             0.117891  0.091822    0.798611  6.774166  0.078267    4.380129  \n",
            "0             0.114977  0.091822    0.778876  6.774166  0.078267    4.002376  \n",
            "16            0.297836  0.089486    0.352634  1.183989  0.013906    1.084649  \n",
            "17            0.253765  0.089486    0.300455  1.183989  0.013906    1.066743  \n",
            "18            0.220443  0.089324    0.299912  1.360498  0.023669    1.113513  \n",
            "19            0.297836  0.089324    0.405205  1.360498  0.023669    1.180514  \n",
            "33            0.220443  0.083086    0.327414  1.485257  0.027146    1.159045  \n",
            "34            0.253765  0.083086    0.376906  1.485257  0.027146    1.197629  \n",
            "7             0.355470  0.081956    0.499732  1.405835  0.023659    1.288369  \n",
            "3             0.297836  0.080015    0.487897  1.638143  0.031170    1.371139  \n",
            "2             0.164000  0.080015    0.268656  1.638143  0.031170    1.143100  \n",
            "43            0.355470  0.074883    0.426174  1.198906  0.012423    1.123217  \n",
            "27            0.205147  0.074494    0.293554  1.430941  0.022434    1.125143  \n",
            "28            0.253765  0.074494    0.363123  1.430941  0.022434    1.171709  \n",
            "15            0.297836  0.072944    0.355568  1.193841  0.011844    1.089587  \n",
            "29            0.220443  0.072266    0.352265  1.597987  0.027043    1.203512  \n",
            "30            0.205147  0.072266    0.327823  1.597987  0.027043    1.182505  \n",
            "37            0.175709  0.069543    0.274046  1.559658  0.024954    1.135459  \n",
            "38            0.253765  0.069543    0.395787  1.559658  0.024954    1.235052  \n",
            "22            0.297836  0.067664    0.385090  1.292963  0.015331    1.141899  \n",
            "41            0.220443  0.063950    0.363954  1.651013  0.025216    1.225630  \n",
            "42            0.175709  0.063950    0.290098  1.651013  0.025216    1.161133  \n",
            "6             0.220443  0.063227    0.385531  1.748895  0.027075    1.268669  \n",
            "5             0.164000  0.063227    0.286819  1.748895  0.027075    1.172213  \n",
            "23            0.355470  0.061980    0.521489  1.467042  0.019732    1.346950  \n",
            "10            0.355470  0.061385    0.370156  1.041315  0.002436    1.023317  \n",
            "11            0.165835  0.060787    0.453977  2.737526  0.038582    1.527711  \n",
            "12            0.133899  0.060787    0.366551  2.737526  0.038582    1.367279  \n",
            "14            0.297836  0.060582    0.521823  1.752050  0.026004    1.468419  \n",
            "25            0.355470  0.058955    0.436740  1.228628  0.010970    1.144285  \n",
            "24            0.253765  0.055331    0.409895  1.615253  0.021076    1.264579  \n",
            "4             0.253765  0.054784    0.334049  1.316372  0.013167    1.120555  \n",
            "13            0.297836  0.054207    0.401568  1.348288  0.014003    1.173341  \n",
            "26            0.355470  0.053187    0.458127  1.288793  0.011918    1.189449  \n",
            "8             0.297836  0.051842    0.312613  1.049617  0.002451    1.021499  \n",
            "44            0.297836  0.050798    0.437934  1.470387  0.016251    1.249255  \n",
            "45            0.355470  0.050798    0.567663  1.596939  0.018988    1.490807  \n",
            "46            0.253765  0.050798    0.415090  1.635726  0.019743    1.275811  \n",
            "9             0.253765  0.050653    0.305441  1.203636  0.008570    1.074401  \n",
            "47            0.220443  0.050487    0.412547  1.871447  0.023509    1.327012  \n",
            "48            0.297836  0.050487    0.488801  1.641177  0.019724    1.373563  \n",
            "49            0.355470  0.050487    0.565207  1.590030  0.018735    1.482386  \n"
          ]
        }
      ]
    },
    {
      "cell_type": "code",
      "source": [
        "# rules.to_pickle('rules.pkl')\n",
        "# rules.to_excel('rules.xlsx')"
      ],
      "metadata": {
        "id": "bqHA20_69XbU"
      },
      "execution_count": 28,
      "outputs": []
    },
    {
      "cell_type": "code",
      "source": [],
      "metadata": {
        "id": "6piqVTil9aev"
      },
      "execution_count": null,
      "outputs": []
    }
  ]
}